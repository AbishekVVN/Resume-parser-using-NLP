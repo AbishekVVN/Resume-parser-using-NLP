{
  "nbformat": 4,
  "nbformat_minor": 0,
  "metadata": {
    "colab": {
      "provenance": []
    },
    "kernelspec": {
      "name": "python3",
      "display_name": "Python 3"
    },
    "language_info": {
      "name": "python"
    }
  },
  "cells": [
    {
      "cell_type": "code",
      "execution_count": 1,
      "metadata": {
        "colab": {
          "base_uri": "https://localhost:8080/"
        },
        "id": "QFsKFNC06tto",
        "outputId": "dae82c81-bee7-4dda-be4e-f644148fa62a"
      },
      "outputs": [
        {
          "output_type": "stream",
          "name": "stdout",
          "text": [
            "Looking in indexes: https://pypi.org/simple, https://us-python.pkg.dev/colab-wheels/public/simple/\n",
            "Collecting docx2txt\n",
            "  Downloading docx2txt-0.8.tar.gz (2.8 kB)\n",
            "  Preparing metadata (setup.py) ... \u001b[?25l\u001b[?25hdone\n",
            "Building wheels for collected packages: docx2txt\n",
            "  Building wheel for docx2txt (setup.py) ... \u001b[?25l\u001b[?25hdone\n",
            "  Created wheel for docx2txt: filename=docx2txt-0.8-py3-none-any.whl size=3980 sha256=a3793eeffb219e8360135a6a0c9529cde2c36ffbba17df333cc840d420d3df18\n",
            "  Stored in directory: /root/.cache/pip/wheels/40/75/01/e6c444034338bde9c7947d3467807f889123465c2371e77418\n",
            "Successfully built docx2txt\n",
            "Installing collected packages: docx2txt\n",
            "Successfully installed docx2txt-0.8\n"
          ]
        }
      ],
      "source": [
        "!pip install docx2txt\n",
        "import docx2txt"
      ]
    },
    {
      "cell_type": "code",
      "source": [
        "job_description=docx2txt.process('/content/SAP Functional Consultant Job Description Template.docx')\n",
        "resume=docx2txt.process('/content/20AD001-AbishekVVN.docx')"
      ],
      "metadata": {
        "id": "VaPqgCfj8Vq-"
      },
      "execution_count": 5,
      "outputs": []
    },
    {
      "cell_type": "code",
      "source": [
        "print(job_description)"
      ],
      "metadata": {
        "colab": {
          "base_uri": "https://localhost:8080/"
        },
        "id": "TJlyTbmlA9jT",
        "outputId": "732acd30-170c-41fa-b6f4-c6d7789e95ed"
      },
      "execution_count": 11,
      "outputs": [
        {
          "output_type": "stream",
          "name": "stdout",
          "text": [
            "SAP FUNCTIONAL\n",
            "\n",
            "CONSULTANT JOB DESCRIPTION\n",
            "\n",
            "\n",
            "\n",
            "\n",
            "\n",
            "Job Role and Summary \n",
            "\n",
            "\n",
            "\n",
            "A SAP Functional Consultant assists clients in choosing and integrating unique SAP modules and maintaining them. This position uses consulting skills, business knowledge, and the expertise of SAP technologies to successfully incorporate SAP software into the business environment of the client in order to reach the desired outcomes of the client. Primarily responsible for the full implementation of SAP, providing customers with technical experience, advice, presentation, and direction on SAP products.\n",
            "\n",
            "\n",
            "\n",
            "\n",
            "\n",
            "A.   Duties and Responsibilities \n",
            "\n",
            "\n",
            "\n",
            "Develops, set ups, and evaluates the different SAP modules: SD, MM, WM, HR, PS, PY.\n",
            "\n",
            "\n",
            "\n",
            "Evaluates the customer's existing business processes and problems to recommend and develop solutions to fulfill customer needs.\n",
            "\n",
            "\n",
            "\n",
            "Performs complex or new assignments that require new or enhanced procedures to be established.\n",
            "\n",
            "\n",
            "\n",
            "Creates and reviews strategies and requirements for others to carry out; provide leadership and direction.\n",
            "\n",
            "\n",
            "\n",
            "Provides a detailed understanding of best practices in the business.\n",
            "\n",
            "\n",
            "\n",
            "Manages and engages in the implementation of the SAP Enterprise All-In-One.\n",
            "\n",
            "\n",
            "\n",
            "Operates as customer liaison for troubleshooting: evaluates, examines, and fixes software problems and map customer business needs, processes, and goals; creates appropriate product changes to meet customer needs.\n",
            "\n",
            "\n",
            "\n",
            "Maintains in-depth organizational awareness and complies with all institutional requirements.\n",
            "\n",
            "\n",
            "\n",
            "Identifies, seeks, and upsells extra services when interacting with the customer on site.\n",
            "\n",
            "\n",
            "\n",
            "[Specify Additional Duties & Responsibilities Here] \n",
            "\n",
            "\n",
            "\n",
            "\n",
            "\n",
            "B.   Skills\n",
            "\n",
            "\n",
            "\n",
            "Capability to analyze and solve problems.\n",
            "\n",
            "\n",
            "\n",
            "Can provide clear and concise recommendations to the clients.\n",
            "\n",
            "\n",
            "\n",
            "Exceptional organizational and time management skills.\n",
            "\n",
            "\n",
            "\n",
            "Capable of working with customers with a strong desire to succeed.\n",
            "\n",
            "\n",
            "\n",
            "Strong written and verbal communication skills.\n",
            "\n",
            "\n",
            "\n",
            "Excellent interpersonal skills.\n",
            "\n",
            "\n",
            "\n",
            "Must be capable of working professionally and be able to manage responsibilities.\n",
            "\n",
            "\n",
            "\n",
            "Capable of working with multiple tasks within tight deadlines.\n",
            "\n",
            "\n",
            "\n",
            "Must be able to function individually without guidance.\n",
            "\n",
            "\n",
            "\n",
            "Can generate effective practical solution.\n",
            "\n",
            "\n",
            "\n",
            "Good judgment skills.\n",
            "\n",
            "\n",
            "\n",
            "[Specify Additional Skills Here] \n",
            "\n",
            "\n",
            "\n",
            "\n",
            "\n",
            "C.   Qualifications\n",
            "\n",
            "\n",
            "\n",
            "Must be a bachelor's degree holder in information technology, computers, or a related field.\n",
            "\n",
            "\n",
            "\n",
            "With experience in SAP configuration.\n",
            "\n",
            "\n",
            "\n",
            "Should be accredited to the SAP and CompTIA Security.\n",
            "\n",
            "\n",
            "\n",
            "At least [5 years] of experience as an SAP functional consultant that has at least three complete lifecycle implementation support.\n",
            "\n",
            "\n",
            "\n",
            "With experience of SAP PLM implementation is preferred.\n",
            "\n",
            "\n",
            "\n",
            "[Specify Additional Qualifications Here] \n",
            "\n",
            "\t\tCopyright@ Template.net\n"
          ]
        }
      ]
    },
    {
      "cell_type": "code",
      "source": [
        "print(resume)"
      ],
      "metadata": {
        "colab": {
          "base_uri": "https://localhost:8080/"
        },
        "id": "J7FSw_QE-D-j",
        "outputId": "f5425845-0543-4ab5-ec76-bccebd3c4d71"
      },
      "execution_count": 6,
      "outputs": [
        {
          "output_type": "stream",
          "name": "stdout",
          "text": [
            "ABI SHEK VENU VENKAT NC O N T A C T\n",
            "\n",
            "+91 8056569743\n",
            "\n",
            "\n",
            "O B J E C T I V E\n",
            "\n",
            "\n",
            "\n",
            "\t@\tnavv2021@gmail.com Github\n",
            "\n",
            "Linkedin Portfolio\n",
            "\n",
            "2/828 Thirupathi Nagar,\n",
            "\n",
            "\n",
            "\n",
            "Hosur-635109\n",
            "\n",
            "S K I L L S\n",
            "\n",
            "Machine Learning Java\n",
            "\n",
            "SQL\n",
            "\n",
            "Event Coordination Communication Public speaking Leadership\n",
            "\n",
            "Problem Solving Mentoring\n",
            "\n",
            "E D U C A T I O N\n",
            "\n",
            "B.Tech Artificial Intelligence and Data Science - CGPA-8.81*\n",
            "\n",
            "Sri Eshwar College of Engineering,Coimbtore\n",
            "\n",
            "HSC - 72.8% ,Sri chaitanya techno school,Banglore | 2020\n",
            "\n",
            "SSLC - 82% , Siddharth Village school ,Hosur 2018\n",
            "\n",
            "\n",
            "Seeking a challenging role at a reputed IT organization to utilize my engineering skills that can contribute to the company’s growth as well as enhance my knowledge by exploring new things.\n",
            "\n",
            "\n",
            "\n",
            "\n",
            "\n",
            "\n",
            "\n",
            "\n",
            "\n",
            "\tO N L I N E\tC O U R S E S\n",
            "\n",
            "Geoprocessing using python -IIRS Dehradhun\n",
            "\n",
            "Foundation of HTML and CSS -Coursera C, Java, Python, SQL -Hackerrank Python and Machine learning -Kaggle Julia -Julia academy\n",
            "\n",
            "R -Datacamp\n",
            "\n",
            "Data analytics-AWS skillbuilder\n",
            "\n",
            "\n",
            "\n",
            "\n",
            "\n",
            "\n",
            "\n",
            "P R O J E C T S\n",
            "\n",
            "T O U C H L E S S A T M P O I N T E R U S I N G A I\n",
            "\n",
            "Using Hand as a pointer in order to browse through different options in an ATM\n",
            "\n",
            "E F F E C T I V E P R E D I C T I O N O F S A L E S U S I N G R E G R E S S I O N D A T A\n",
            "\n",
            "This project mainly analyses on the part of how the sales are forecasted as well as which platform is considered to be essential.\n"
          ]
        }
      ]
    },
    {
      "cell_type": "code",
      "source": [
        "content=[job_description,resume]"
      ],
      "metadata": {
        "id": "ZA4Sxm2n-tAV"
      },
      "execution_count": 7,
      "outputs": []
    },
    {
      "cell_type": "code",
      "source": [
        "from sklearn.feature_extraction.text import CountVectorizer\n",
        "cv=CountVectorizer()\n",
        "matrix=cv.fit_transform(content)"
      ],
      "metadata": {
        "id": "pYgNdtww_NnA"
      },
      "execution_count": 8,
      "outputs": []
    },
    {
      "cell_type": "code",
      "source": [
        "from sklearn.metrics.pairwise import cosine_similarity\n",
        "similarity_matrix=cosine_similarity(matrix)"
      ],
      "metadata": {
        "id": "5gwxsRT1AoQD"
      },
      "execution_count": 9,
      "outputs": []
    },
    {
      "cell_type": "code",
      "source": [
        "print(similarity_matrix)"
      ],
      "metadata": {
        "colab": {
          "base_uri": "https://localhost:8080/"
        },
        "id": "CemrD2YcA5EA",
        "outputId": "30f27795-b47c-44b0-9daf-d7e6152efd14"
      },
      "execution_count": 10,
      "outputs": [
        {
          "output_type": "stream",
          "name": "stdout",
          "text": [
            "[[1.         0.38107837]\n",
            " [0.38107837 1.        ]]\n"
          ]
        }
      ]
    },
    {
      "cell_type": "code",
      "source": [
        "print('Resume matches by: '+str(similarity_matrix[1][0]*100)+'%')"
      ],
      "metadata": {
        "colab": {
          "base_uri": "https://localhost:8080/"
        },
        "id": "Okxe_AeyBQLE",
        "outputId": "9904009e-3cff-49e2-e79a-477467e46dbf"
      },
      "execution_count": 12,
      "outputs": [
        {
          "output_type": "stream",
          "name": "stdout",
          "text": [
            "Resume matches by: 38.10783720613103%\n"
          ]
        }
      ]
    }
  ]
}